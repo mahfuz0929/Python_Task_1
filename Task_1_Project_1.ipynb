{
  "cells": [
    {
      "cell_type": "markdown",
      "source": [
        "# **Weather Data Analysis Tool**\n",
        "## **Introduction**\n",
        "\n",
        "**Weather Data Analyzer is a Python-based application designed to analyze and visualize weather data. Using Python's core concepts and data processing capabilities, the tool allows users to extract valuable information by processing weather data such as temperature, precipitation, and wind speed. It offers a versatile solution for understanding weather patterns with features such as data analysis, analytics, and ASCII-based visualization.**\n",
        "\n",
        "**This project is great for teaching Python programming skills and the ability to work with real-world data. Whether you're analyzing past weather events, looking at forecasts for specific dates, or viewing data, this tool offers great functionality to users with the following features: Very high quality.**"
      ],
      "metadata": {
        "id": "dWPI5k4COtCX"
      }
    },
    {
      "cell_type": "markdown",
      "source": [
        "## **Task-1**\n",
        "## **Data Initialization**\n",
        "\n",
        "● Use a CSV file containing weather data with fields like :\n",
        "Date, Temperature (°C), Rainfall (mm), Humidity (%), Wind Speed\n",
        "(km/h), Condition (Sunny, Rainy, etc.)\n",
        "\n",
        "● Load and manipulate the data using Python core tools."
      ],
      "metadata": {
        "id": "hWEPkFX6PpWW"
      }
    },
    {
      "cell_type": "code",
      "execution_count": 2,
      "metadata": {
        "id": "SZ-kqWBGyNiA"
      },
      "outputs": [],
      "source": [
        "import pandas as pd\n",
        "import csv\n",
        "from datetime import datetime\n",
        "DEFAULT_VALUES = {\n",
        "    \"Temperature\":25.0,\n",
        "    \"Rainfall (mm)\":0.0,\n",
        "    \"Humidity (%)\":50.0,\n",
        "    \"Wind Speed (km/h)\":10.0\n",
        "}\n",
        "# Validate Date\n",
        "def validate_numeric(date_str):\n",
        "  try:\n",
        "    datetime.strptime(date_str,\"%Y-%m-%d\")\n",
        "    return True\n",
        "  except ValueError:\n",
        "    return False\n",
        "# Numeric value\n",
        "def validate_numeric(value):\n",
        "  try:\n",
        "    return float(value)\n",
        "  except ValueError:\n",
        "    return None\n",
        "\n"
      ]
    },
    {
      "cell_type": "code",
      "source": [
        "from google.colab import drive\n",
        "drive.mount('/content/drive')"
      ],
      "metadata": {
        "id": "5PS_g1_G1J6s"
      },
      "execution_count": null,
      "outputs": []
    },
    {
      "cell_type": "markdown",
      "source": [
        "# **Task-2**\n",
        "### **Importing and Validating Data**\n",
        "● **Allow users to:**\n",
        "\n",
        "  - Import new weather data into the application.\n",
        "\n",
        "  - Validate the input to ensure correct formats for date and numerical fields.\n",
        "\n",
        "● Handle missing or incomplete records:\n",
        "○ Replace missing values with averages or predefined defaults."
      ],
      "metadata": {
        "id": "I7ZbWA-So0li"
      }
    },
    {
      "cell_type": "code",
      "source": [
        "# Handle missing or invalid\n",
        "def handle_missing_data(row):\n",
        "  for key in [\"Temperature\", \"Rainfall (mm)\", \"Humidity (%)\", \"Wind Speed (km/h)\"]:\n",
        "    if row[key] == \"\" or not validate_numeric(row[key]):\n",
        "      row[key]=DEFAULT_VALUES[key]\n",
        "    else:\n",
        "      row[key]= float(row[key])\n",
        "      return row\n"
      ],
      "metadata": {
        "id": "Y1yDCpe9otGa"
      },
      "execution_count": 3,
      "outputs": []
    },
    {
      "cell_type": "code",
      "source": [
        "# Func to imoport and validate data from csv\n",
        "def import_weather_data(file_path):\n",
        "  weather_data=[]\n",
        "  # #with open(\"/content/drive/MyDrive/weatherData.csv\", \"r\") as file :\n",
        "  #   reader = csv.DictReader(file)\n",
        "  #   for row in reader:\n",
        "  #     if not validate_numeric(row[\"Date\"]):\n",
        "  #       print(f\"Invalid date format: {row['Date']}. Skipping row.\")\n",
        "  #       continue\n",
        "  #   row = handle_missing_data(row)\n",
        "  #   file.close()\n",
        "  row=pd.read_csv(file_path)\n",
        "  for index, row in row.iterrows():\n",
        "    if not validate_numeric(row[\"Date\"]):\n",
        "      print(f\"Invalid date format: {row['Date']}. Skipping row.\")\n",
        "      continue\n",
        "    row = handle_missing_data(row)\n",
        "# Handle missing values\n",
        "\n",
        "# Appending\n",
        "    weather_data.append(row)\n",
        "    return weather_data\n"
      ],
      "metadata": {
        "id": "EhYhxzrpwgk6"
      },
      "execution_count": 4,
      "outputs": []
    },
    {
      "cell_type": "code",
      "source": [
        "if __name__==\"__main__\":\n",
        "  file_path=\"/content/drive/MyDrive/weatherData.csv\"\n",
        "  data=import_weather_data(file_path)\n",
        "  print(\"Cleaned Weather Data:\")\n",
        "  # for record in data:\n",
        "  print(data)\n",
        "\n",
        "\n",
        "# df_loaded = pd.read_csv(\"/content/drive/MyDrive/weatherData.csv\")\n",
        "# print(\"\\nLoaded DataFrame:\\n\",df_loaded.sample(5))"
      ],
      "metadata": {
        "colab": {
          "base_uri": "https://localhost:8080/"
        },
        "id": "E6hjlfJSwoEx",
        "outputId": "849442a5-81ad-4a09-9cef-5dcf53928bb4"
      },
      "execution_count": 5,
      "outputs": [
        {
          "output_type": "stream",
          "name": "stdout",
          "text": [
            "Cleaned Weather Data:\n",
            "None\n"
          ]
        }
      ]
    },
    {
      "cell_type": "markdown",
      "source": [
        "# **Task-3**\n",
        "### **Analyzing Weather Trends**\n",
        "● **Calculate key statistics :**\n",
        "\n",
        "- Average temperature, rainfall, and humidity over specific periods.\n",
        "\n",
        "- Days with the highest and lowest temperature or rainfall.\n",
        "\n",
        "- Count of sunny, rainy, or windy days in a given month."
      ],
      "metadata": {
        "id": "UxCvSjQRpzmB"
      }
    },
    {
      "cell_type": "code",
      "execution_count": 6,
      "metadata": {
        "colab": {
          "base_uri": "https://localhost:8080/"
        },
        "id": "NwezA09yyXfA",
        "outputId": "b03f4069-a7e7-479a-c0e0-0d22c436c780"
      },
      "outputs": [
        {
          "output_type": "stream",
          "name": "stdout",
          "text": [
            "Weather Trends Analysis:\n",
            "Average Temperature: 22.62 °C\n",
            "Average Rainfall: 5.38 mm\n",
            "Average Humidity: 60.75 %\n",
            "Hottest Day: 2025-01-03 (25.0 °C)\n",
            "Coldest Day: 2025-01-04 (20.0 °C)\n",
            "Rainiest Day: 2025-01-04 (12.0 mm)\n",
            "Weather Conditions Count:\n",
            "Sunny: 1 days\n",
            "Rainy: 2 days\n",
            "Windy: 1 days\n"
          ]
        }
      ],
      "source": [
        "from collections import Counter\n",
        "\n",
        "# Function to calculate average of a field\n",
        "def calculate_average(data, key):\n",
        "    total = sum(row[key] for row in data)\n",
        "    return total / len(data)\n",
        "\n",
        "# Function to find the day with the highest or lowest value for a field\n",
        "def find_extreme_day(data, key, extreme=\"highest\"):\n",
        "    if extreme == \"highest\":\n",
        "        return max(data, key=lambda row: row[key])\n",
        "    elif extreme == \"lowest\":\n",
        "        return min(data, key=lambda row: row[key])\n",
        "\n",
        "# Function to count weather conditions\n",
        "def count_conditions(data, condition_key=\"Condition\"):\n",
        "    conditions = [row[condition_key] for row in data]\n",
        "    return Counter(conditions)\n",
        "\n",
        "# Function to analyze trends\n",
        "def analyze_weather_trends(data, start_date=None, end_date=None):\n",
        "    # Filter data for the date range if provided\n",
        "    if start_date and end_date:\n",
        "        data = [row for row in data if start_date <= row[\"Date\"] <= end_date]\n",
        "\n",
        "    # Calculate statistics\n",
        "    avg_temp = calculate_average(data, \"Temperature\")\n",
        "    avg_rainfall = calculate_average(data, \"Rainfall\")\n",
        "    avg_humidity = calculate_average(data, \"Humidity\")\n",
        "\n",
        "    # Find extreme days\n",
        "    hottest_day = find_extreme_day(data, \"Temperature\", \"highest\")\n",
        "    coldest_day = find_extreme_day(data, \"Temperature\", \"lowest\")\n",
        "    rainiest_day = find_extreme_day(data, \"Rainfall\", \"highest\")\n",
        "\n",
        "    # Count weather conditions\n",
        "    condition_counts = count_conditions(data)\n",
        "\n",
        "    # Display results\n",
        "    print(\"Weather Trends Analysis:\")\n",
        "    print(f\"Average Temperature: {avg_temp:.2f} °C\")\n",
        "    print(f\"Average Rainfall: {avg_rainfall:.2f} mm\")\n",
        "    print(f\"Average Humidity: {avg_humidity:.2f} %\")\n",
        "    print(f\"Hottest Day: {hottest_day['Date']} ({hottest_day['Temperature']} °C)\")\n",
        "    print(f\"Coldest Day: {coldest_day['Date']} ({coldest_day['Temperature']} °C)\")\n",
        "    print(f\"Rainiest Day: {rainiest_day['Date']} ({rainiest_day['Rainfall']} mm)\")\n",
        "    print(\"Weather Conditions Count:\")\n",
        "    for condition, count in condition_counts.items():\n",
        "        print(f\"{condition}: {count} days\")\n",
        "\n",
        "# Example usage\n",
        "if __name__ == \"__main__\":\n",
        "    # Example dataset (replace with the cleaned dataset from Step 2)\n",
        "    weather_data = [\n",
        "        {\"Date\": \"2025-01-01\", \"Temperature\": 22.5, \"Rainfall\": 5.0, \"Humidity\": 60, \"Wind Speed\": 12, \"Condition\": \"Sunny\"},\n",
        "        {\"Date\": \"2025-01-02\", \"Temperature\": 23.0, \"Rainfall\": 4.5, \"Humidity\": 58, \"Wind Speed\": 10, \"Condition\": \"Rainy\"},\n",
        "        {\"Date\": \"2025-01-03\", \"Temperature\": 25.0, \"Rainfall\": 0.0, \"Humidity\": 55, \"Wind Speed\": 8, \"Condition\": \"Windy\"},\n",
        "        {\"Date\": \"2025-01-04\", \"Temperature\": 20.0, \"Rainfall\": 12.0, \"Humidity\": 70, \"Wind Speed\": 15, \"Condition\": \"Rainy\"},\n",
        "    ]\n",
        "\n",
        "    analyze_weather_trends(weather_data)\n"
      ]
    },
    {
      "cell_type": "markdown",
      "source": [
        "# **Task-4**\n",
        "\n",
        "## **Weather Reports**\n",
        "**Generate summary reports for a user-specified date range:**\n",
        "\n",
        "- Display the average, maximum, and minimum values for temperature, rainfall,\n",
        "and wind speed.\n",
        "\n",
        "- List days with extreme conditions, such as storms or heatwaves."
      ],
      "metadata": {
        "id": "cudxRIrCqg_h"
      }
    },
    {
      "cell_type": "code",
      "execution_count": 7,
      "metadata": {
        "colab": {
          "base_uri": "https://localhost:8080/"
        },
        "id": "ISt3kAlSzLnY",
        "outputId": "fec2f7f2-fcf5-4366-83c3-bc9a705f559e"
      },
      "outputs": [
        {
          "output_type": "stream",
          "name": "stdout",
          "text": [
            "\n",
            "Weather Summary Report:\n",
            "Date Range: 2025-01-01 to 2025-01-03\n",
            "Average Temperature: 23.50 °C\n",
            "Average Rainfall: 3.17 mm\n",
            "Average Wind Speed: 10.00 km/h\n",
            "Hottest Day: 2025-01-03 (25.0 °C)\n",
            "Coldest Day: 2025-01-01 (22.5 °C)\n",
            "Rainiest Day: 2025-01-01 (5.0 mm)\n",
            "Windiest Day: 2025-01-01 (12 km/h)\n",
            "\n",
            "Days with Extreme Conditions:\n"
          ]
        }
      ],
      "source": [
        "# Helper function to generate summary report\n",
        "def generate_summary_report(data, start_date=None, end_date=None):\n",
        "    # Filter data for the given date range\n",
        "    if start_date and end_date:\n",
        "        data = [row for row in data if start_date <= row[\"Date\"] <= end_date]\n",
        "\n",
        "    if not data:  # If no data exists for the date range\n",
        "        print(\"No data available for the specified date range.\")\n",
        "        return\n",
        "\n",
        "    # Calculate averages\n",
        "    avg_temp = calculate_average(data, \"Temperature\")\n",
        "    avg_rainfall = calculate_average(data, \"Rainfall\")\n",
        "    avg_wind_speed = calculate_average(data, \"Wind Speed\")\n",
        "\n",
        "    # Find extremes\n",
        "    hottest_day = find_extreme_day(data, \"Temperature\", \"highest\")\n",
        "    coldest_day = find_extreme_day(data, \"Temperature\", \"lowest\")\n",
        "    rainiest_day = find_extreme_day(data, \"Rainfall\", \"highest\")\n",
        "    windiest_day = find_extreme_day(data, \"Wind Speed\", \"highest\")\n",
        "\n",
        "    # Display summary report\n",
        "    print(\"\\nWeather Summary Report:\")\n",
        "    print(f\"Date Range: {start_date or 'Start'} to {end_date or 'End'}\")\n",
        "    print(f\"Average Temperature: {avg_temp:.2f} °C\")\n",
        "    print(f\"Average Rainfall: {avg_rainfall:.2f} mm\")\n",
        "    print(f\"Average Wind Speed: {avg_wind_speed:.2f} km/h\")\n",
        "    print(f\"Hottest Day: {hottest_day['Date']} ({hottest_day['Temperature']} °C)\")\n",
        "    print(f\"Coldest Day: {coldest_day['Date']} ({coldest_day['Temperature']} °C)\")\n",
        "    print(f\"Rainiest Day: {rainiest_day['Date']} ({rainiest_day['Rainfall']} mm)\")\n",
        "    print(f\"Windiest Day: {windiest_day['Date']} ({windiest_day['Wind Speed']} km/h)\")\n",
        "\n",
        "    # List extreme conditions (e.g., storms, heatwaves)\n",
        "    print(\"\\nDays with Extreme Conditions:\")\n",
        "    for row in data:\n",
        "        if row[\"Condition\"].lower() in [\"storm\", \"heatwave\"]:\n",
        "            print(f\"{row['Date']}: {row['Condition']}\")\n",
        "\n",
        "# Example usage\n",
        "if __name__ == \"__main__\":\n",
        "    # Example dataset (replace with the cleaned dataset from Step 2)\n",
        "    weather_data = [\n",
        "        {\"Date\": \"2025-01-01\", \"Temperature\": 22.5, \"Rainfall\": 5.0, \"Humidity\": 60, \"Wind Speed\": 12, \"Condition\": \"Sunny\"},\n",
        "        {\"Date\": \"2025-01-02\", \"Temperature\": 23.0, \"Rainfall\": 4.5, \"Humidity\": 58, \"Wind Speed\": 10, \"Condition\": \"Rainy\"},\n",
        "        {\"Date\": \"2025-01-03\", \"Temperature\": 25.0, \"Rainfall\": 0.0, \"Humidity\": 55, \"Wind Speed\": 8, \"Condition\": \"Windy\"},\n",
        "        {\"Date\": \"2025-01-04\", \"Temperature\": 20.0, \"Rainfall\": 12.0, \"Humidity\": 70, \"Wind Speed\": 15, \"Condition\": \"Storm\"},\n",
        "    ]\n",
        "\n",
        "    # User-specified date range\n",
        "    start_date = \"2025-01-01\"\n",
        "    end_date = \"2025-01-03\"\n",
        "\n",
        "    generate_summary_report(weather_data, start_date, end_date)\n"
      ]
    },
    {
      "cell_type": "markdown",
      "source": [
        "# **Task-5**\n",
        "## **Data Visualization**\n",
        "● Visualize trends using ASCII charts:\n",
        "- Line chart for temperature over time.\n",
        "- Bar chart for daily rainfall in a month."
      ],
      "metadata": {
        "id": "FS54z93UrU7B"
      }
    },
    {
      "cell_type": "code",
      "execution_count": 8,
      "metadata": {
        "colab": {
          "base_uri": "https://localhost:8080/",
          "height": 1000
        },
        "id": "KyLyFd9b0Nuq",
        "outputId": "24707d64-9081-4fa0-b447-498e4c104353"
      },
      "outputs": [
        {
          "output_type": "display_data",
          "data": {
            "text/plain": [
              "<Figure size 1000x500 with 1 Axes>"
            ],
            "image/png": "[encoded data removed]"
          },
          "metadata": {}
        },
        {
          "output_type": "display_data",
          "data": {
            "text/plain": [
              "<Figure size 1000x500 with 1 Axes>"
            ],
            "image/png": "[encoded data removed]"
          },
          "metadata": {}
        },
        {
          "output_type": "stream",
          "name": "stdout",
          "text": [
            "\n",
            "Weather Statistics by Month:\n",
            "     Month  Avg_Temperature  Total_Rainfall  Avg_Wind_Speed\n",
            "0  2025-01           22.625            21.5           11.25\n"
          ]
        },
        {
          "output_type": "display_data",
          "data": {
            "text/plain": [
              "<Figure size 800x400 with 1 Axes>"
            ],
            "image/png": "[encoded data removed]"
          },
          "metadata": {}
        }
      ],
      "source": [
        "import matplotlib.pyplot as plt\n",
        "import pandas as pd\n",
        "\n",
        "# Function to plot a temperature trend line chart\n",
        "def plot_temperature_trend(data):\n",
        "    dates = [row[\"Date\"] for row in data]\n",
        "    temperatures = [row[\"Temperature\"] for row in data]\n",
        "\n",
        "    plt.figure(figsize=(10, 5))\n",
        "    plt.plot(dates, temperatures, marker=\"o\", linestyle=\"-\", color=\"blue\")\n",
        "    plt.title(\"Temperature Trend\")\n",
        "    plt.xlabel(\"Date\")\n",
        "    plt.ylabel(\"Temperature (°C)\")\n",
        "    plt.xticks(rotation=45)\n",
        "    plt.grid()\n",
        "    plt.tight_layout()\n",
        "    plt.show()\n",
        "\n",
        "# Function to plot a daily rainfall bar chart\n",
        "def plot_daily_rainfall(data):\n",
        "    dates = [row[\"Date\"] for row in data]\n",
        "    rainfall = [row[\"Rainfall\"] for row in data]\n",
        "\n",
        "    plt.figure(figsize=(10, 5))\n",
        "    plt.bar(dates, rainfall, color=\"green\")\n",
        "    plt.title(\"Daily Rainfall\")\n",
        "    plt.xlabel(\"Date\")\n",
        "    plt.ylabel(\"Rainfall (mm)\")\n",
        "    plt.xticks(rotation=45)\n",
        "    plt.tight_layout()\n",
        "    plt.show()\n",
        "\n",
        "# Function to create a summary table of weather statistics by month\n",
        "def summarize_weather_by_month(data):\n",
        "    # Convert data to a Pandas DataFrame\n",
        "    df = pd.DataFrame(data)\n",
        "    df[\"Date\"] = pd.to_datetime(df[\"Date\"])  # Ensure Date column is datetime\n",
        "    df[\"Month\"] = df[\"Date\"].dt.to_period(\"M\")  # Extract year-month as period\n",
        "\n",
        "    # Group by Month and calculate statistics\n",
        "    summary = df.groupby(\"Month\").agg(\n",
        "        Avg_Temperature=(\"Temperature\", \"mean\"),\n",
        "        Total_Rainfall=(\"Rainfall\", \"sum\"),\n",
        "        Avg_Wind_Speed=(\"Wind Speed\", \"mean\"),\n",
        "    ).reset_index()\n",
        "\n",
        "    # Display the table\n",
        "    print(\"\\nWeather Statistics by Month:\")\n",
        "    print(summary)\n",
        "\n",
        "    # Optional: Display the summary table as a plot\n",
        "    fig, ax = plt.subplots(figsize=(8, 4))\n",
        "    ax.axis(\"tight\")\n",
        "    ax.axis(\"off\")\n",
        "    table = ax.table(\n",
        "        cellText=summary.values,\n",
        "        colLabels=summary.columns,\n",
        "        cellLoc=\"center\",\n",
        "        loc=\"center\",\n",
        "    )\n",
        "    table.auto_set_font_size(False)\n",
        "    table.set_fontsize(10)\n",
        "    table.auto_set_column_width(col=list(range(len(summary.columns))))\n",
        "    plt.title(\"Monthly Weather Summary\")\n",
        "    plt.show()\n",
        "\n",
        "# Example usage\n",
        "if __name__ == \"__main__\":\n",
        "    # Example dataset (replace with the cleaned dataset from Step 2)\n",
        "    weather_data = [\n",
        "        {\"Date\": \"2025-01-01\", \"Temperature\": 22.5, \"Rainfall\": 5.0, \"Humidity\": 60, \"Wind Speed\": 12, \"Condition\": \"Sunny\"},\n",
        "        {\"Date\": \"2025-01-02\", \"Temperature\": 23.0, \"Rainfall\": 4.5, \"Humidity\": 58, \"Wind Speed\": 10, \"Condition\": \"Rainy\"},\n",
        "        {\"Date\": \"2025-01-03\", \"Temperature\": 25.0, \"Rainfall\": 0.0, \"Humidity\": 55, \"Wind Speed\": 8, \"Condition\": \"Windy\"},\n",
        "        {\"Date\": \"2025-01-04\", \"Temperature\": 20.0, \"Rainfall\": 12.0, \"Humidity\": 70, \"Wind Speed\": 15, \"Condition\": \"Storm\"},\n",
        "    ]\n",
        "\n",
        "    # Plot temperature trend\n",
        "    plot_temperature_trend(weather_data)\n",
        "\n",
        "    # Plot daily rainfall\n",
        "    plot_daily_rainfall(weather_data)\n",
        "\n",
        "    # Summarize weather by month\n",
        "    summarize_weather_by_month(weather_data)\n"
      ]
    },
    {
      "cell_type": "markdown",
      "source": [
        "# Temperature and Rainfall Data\n",
        "### Temperature Trend\n",
        "The above chart shows us some temperature trend of four consecutive days.\n",
        "At first 3 days , temperature tends to increase and then suddenly in the fourth day it significantly dropped down.\n",
        "Other dates will show some kind of trends like this one if we put them into our code.\n",
        "### Rainfall Bar\n",
        "At the very first day of January we observed around 4.5 mm rainfall. Rain continued for the next day. But then, in the  third day of January, there is no rain at all. 4th of January witnessed a significant amount of rainfall near 12 mm.\n",
        "The bar shows us the amount of rainfall per day.\n",
        "## Monthly Weather Summary\n",
        "It also shows us the monthly weather data like, average temperature, total rainfall and average wind speed of the month of Jantuary.\n",
        "\n",
        "-Average temperature was **22.625 Degree Celcius.**\n",
        "\n",
        "-Total Rainfall was **21.5 mm**.\n",
        "\n",
        "-And average windspeed was **11.25 km/h** respectively."
      ],
      "metadata": {
        "id": "hhybd-ZK1-Ew"
      }
    },
    {
      "cell_type": "markdown",
      "source": [],
      "metadata": {
        "id": "bO5DNT2WzaRp"
      }
    },
    {
      "cell_type": "markdown",
      "source": [
        "# **Task-6**\n",
        "## **Advanced Features**\n",
        "● **File Handling:**\n",
        "- Allow exporting weather reports to a CSV file.\n",
        "- Save and reload user-defined analysis configurations.\n",
        "\n",
        "● **Error Handling:**\n",
        "- Handle invalid data inputs and provide meaningful error messages.\n",
        "\n",
        "● **Interactive Search:**\n",
        "- Allow users to search for weather data by date or condition."
      ],
      "metadata": {
        "id": "KY8sJqoDr9th"
      }
    },
    {
      "cell_type": "code",
      "execution_count": 9,
      "metadata": {
        "colab": {
          "base_uri": "https://localhost:8080/"
        },
        "id": "HMO1QJfH2X9i",
        "outputId": "5c92b540-fbf4-4d23-b299-cdc914821829"
      },
      "outputs": [
        {
          "output_type": "stream",
          "name": "stdout",
          "text": [
            "Report successfully exported to weather_report.csv.\n",
            "Configuration saved to config.json.\n",
            "Configuration loaded from config.json.\n",
            "\n",
            "Search Results for date '2025-01-02':\n",
            "{'Date': '2025-01-02', 'Temperature': 23.0, 'Rainfall (mm)': 4.5, 'Humidity (%)': 58, 'Wind Speed (km/h)': 10, 'Condition': 'Rainy'}\n",
            "\n",
            "Search Results for condition 'Rainy':\n",
            "{'Date': '2025-01-02', 'Temperature': 23.0, 'Rainfall (mm)': 4.5, 'Humidity (%)': 58, 'Wind Speed (km/h)': 10, 'Condition': 'Rainy'}\n"
          ]
        }
      ],
      "source": [
        "# File Handling: Exporting Reports\n",
        "import csv\n",
        "\n",
        "# Function to export summary report to a CSV file\n",
        "def export_report_to_csv(data, file_name=\"weather_report.csv\"):\n",
        "    # Define the column headers\n",
        "    headers = [\"Date\", \"Temperature\", \"Rainfall (mm)\", \"Humidity (%)\", \"Wind Speed (km/h)\", \"Condition\"]\n",
        "\n",
        "    try:\n",
        "        with open(file_name, mode=\"w\", newline=\"\") as file:\n",
        "            writer = csv.DictWriter(file, fieldnames=headers)\n",
        "            writer.writeheader()  # Write headers\n",
        "            writer.writerows(data)  # Write data rows\n",
        "        print(f\"Report successfully exported to {file_name}.\")\n",
        "    except Exception as e:\n",
        "        print(f\"An error occurred while exporting the report: {e}\")\n",
        "# File Handling: Save and Reload Configurations\n",
        "import json\n",
        "\n",
        "# Function to save user-defined configurations\n",
        "def save_config(config, file_name=\"config.json\"):\n",
        "    try:\n",
        "        with open(file_name, \"w\") as file:\n",
        "            json.dump(config, file)\n",
        "        print(f\"Configuration saved to {file_name}.\")\n",
        "    except Exception as e:\n",
        "        print(f\"An error occurred while saving the configuration: {e}\")\n",
        "\n",
        "# Function to load user-defined configurations\n",
        "def load_config(file_name=\"config.json\"):\n",
        "    try:\n",
        "        with open(file_name, \"r\") as file:\n",
        "            config = json.load(file)\n",
        "        print(f\"Configuration loaded from {file_name}.\")\n",
        "        return config\n",
        "    except FileNotFoundError:\n",
        "        print(f\"No configuration file found at {file_name}.\")\n",
        "        return {}\n",
        "    except Exception as e:\n",
        "        print(f\"An error occurred while loading the configuration: {e}\")\n",
        "        return {}\n",
        "#  Error Handling\n",
        "# Function to handle invalid inputs\n",
        "def get_valid_input(prompt, valid_options):\n",
        "    while True:\n",
        "        user_input = input(prompt)\n",
        "        if user_input in valid_options:\n",
        "            return user_input\n",
        "        else:\n",
        "            print(f\"Invalid input. Please choose from: {', '.join(valid_options)}.\")\n",
        "#  Interactive Search\n",
        "# Function to search weather data by date or condition\n",
        "def search_weather_data(data, search_type=\"date\", query=None):\n",
        "    if search_type == \"date\":\n",
        "        results = [row for row in data if row[\"Date\"] == query]\n",
        "    elif search_type == \"condition\":\n",
        "        results = [row for row in data if row[\"Condition\"].lower() == query.lower()]\n",
        "    else:\n",
        "        print(\"Invalid search type.\")\n",
        "        return []\n",
        "\n",
        "    if results:\n",
        "        print(f\"\\nSearch Results for {search_type} '{query}':\")\n",
        "        for result in results:\n",
        "            print(result)\n",
        "    else:\n",
        "        print(f\"No results found for {search_type} '{query}'.\")\n",
        "if __name__ == \"__main__\":\n",
        "    # Example dataset (replace with the cleaned dataset from Step 2)\n",
        "    weather_data = [\n",
        "        {\"Date\": \"2025-01-01\", \"Temperature\": 22.5, \"Rainfall (mm)\": 5.0, \"Humidity (%)\": 60, \"Wind Speed (km/h)\": 12, \"Condition\": \"Sunny\"},\n",
        "        {\"Date\": \"2025-01-02\", \"Temperature\": 23.0, \"Rainfall (mm)\": 4.5, \"Humidity (%)\": 58, \"Wind Speed (km/h)\": 10, \"Condition\": \"Rainy\"},\n",
        "        {\"Date\": \"2025-01-03\", \"Temperature\": 25.0, \"Rainfall (mm)\": 0.0, \"Humidity (%)\": 55, \"Wind Speed (km/h)\": 8, \"Condition\": \"Windy\"},\n",
        "        {\"Date\": \"2025-01-04\", \"Temperature\": 20.0, \"Rainfall (mm)\": 12.0, \"Humidity (%)\": 70, \"Wind Speed (km/h)\": 15, \"Condition\": \"Storm\"},\n",
        "    ]\n",
        "\n",
        "    # Export the weather data to a CSV file\n",
        "    export_report_to_csv(weather_data)\n",
        "\n",
        "    # Save a user-defined configuration\n",
        "    user_config = {\"analysis_type\": \"temperature_trend\", \"start_date\": \"2025-01-01\", \"end_date\": \"2025-01-04\"}\n",
        "    save_config(user_config)\n",
        "\n",
        "    # Load the saved configuration\n",
        "    loaded_config = load_config()\n",
        "\n",
        "    # Search weather data by date\n",
        "    search_weather_data(weather_data, search_type=\"date\", query=\"2025-01-02\")\n",
        "\n",
        "    # Search weather data by condition\n",
        "    search_weather_data(weather_data, search_type=\"condition\", query=\"Rainy\")\n"
      ]
    },
    {
      "cell_type": "markdown",
      "source": [
        "# **Task-7**\n",
        "## User Interface\n",
        "● Create an interactive, menu-driven program:\n",
        "- Import or add weather data.\n",
        "- View statistics for a specific date or date range.\n",
        "- Generate ASCII-based visualizations.\n",
        "- Export reports to files."
      ],
      "metadata": {
        "id": "NnSBIkA9uEwL"
      }
    },
    {
      "cell_type": "code",
      "execution_count": 10,
      "metadata": {
        "colab": {
          "base_uri": "https://localhost:8080/"
        },
        "id": "TJLbGjw15FYK",
        "outputId": "18673f1c-7d31-4827-c57e-6902d6446791"
      },
      "outputs": [
        {
          "output_type": "stream",
          "name": "stdout",
          "text": [
            "\n",
            "Weather Data Analysis Tool\n",
            "1. Import Weather Data\n",
            "2. View Temperature Trend\n",
            "3. View Daily Rainfall Chart\n",
            "4. Summarize Weather by Month\n",
            "5. Export Weather Report to CSV\n",
            "6. Search Weather Data\n",
            "7. Exit\n",
            "Enter your choice (1-7): 7\n",
            "Exiting the Weather Data Analysis Tool. Goodbye!\n"
          ]
        }
      ],
      "source": [
        "\n",
        "# Final step\n",
        "import matplotlib.pyplot as plt\n",
        "import pandas as pd\n",
        "import csv\n",
        "import json\n",
        "\n",
        "# Functions from previous steps (reused and integrated)\n",
        "def import_weather_data(file_path):\n",
        "    weather_data = []\n",
        "    try:\n",
        "        with open(file_path, \"r\") as file:\n",
        "            reader = csv.DictReader(file)\n",
        "            for row in reader:\n",
        "                row[\"Temperature\"] = float(row[\"Temperature\"])\n",
        "                row[\"Rainfall (mm)\"] = float(row[\"Rainfall (mm)\"])\n",
        "                row[\"Humidity (%)\"] = float(row[\"Humidity (%)\"])\n",
        "                row[\"Wind Speed (km/h)\"] = float(row[\"Wind Speed (km/h)\"])\n",
        "                weather_data.append(row)\n",
        "        print(\"Data successfully imported.\")\n",
        "    except Exception as e:\n",
        "        print(f\"An error occurred while importing data: {e}\")\n",
        "    return weather_data\n",
        "\n",
        "def plot_temperature_trend(data):\n",
        "    dates = [row[\"Date\"] for row in data]\n",
        "    temperatures = [row[\"Temperature\"] for row in data]\n",
        "    plt.figure(figsize=(10, 5))\n",
        "    plt.plot(dates, temperatures, marker=\"o\", linestyle=\"-\", color=\"blue\")\n",
        "    plt.title(\"Temperature Trend\")\n",
        "    plt.xlabel(\"Date\")\n",
        "    plt.ylabel(\"Temperature (°C)\")\n",
        "    plt.xticks(rotation=45)\n",
        "    plt.grid()\n",
        "    plt.tight_layout()\n",
        "    plt.show()\n",
        "\n",
        "def plot_daily_rainfall(data):\n",
        "    dates = [row[\"Date\"] for row in data]\n",
        "    rainfall = [row[\"Rainfall (mm)\"] for row in data]\n",
        "    plt.figure(figsize=(10, 5))\n",
        "    plt.bar(dates, rainfall, color=\"green\")\n",
        "    plt.title(\"Daily Rainfall\")\n",
        "    plt.xlabel(\"Date\")\n",
        "    plt.ylabel(\"Rainfall (mm)\")\n",
        "    plt.xticks(rotation=45)\n",
        "    plt.tight_layout()\n",
        "    plt.show()\n",
        "\n",
        "def summarize_weather_by_month(data):\n",
        "    df = pd.DataFrame(data)\n",
        "    df[\"Date\"] = pd.to_datetime(df[\"Date\"])\n",
        "    df[\"Month\"] = df[\"Date\"].dt.to_period(\"M\")\n",
        "    summary = df.groupby(\"Month\").agg(\n",
        "        Avg_Temperature=(\"Temperature\", \"mean\"),\n",
        "        Total_Rainfall=(\"Rainfall (mm)\", \"sum\"),\n",
        "        Avg_Wind_Speed=(\"Wind Speed\", \"mean\"),\n",
        "    ).reset_index()\n",
        "    print(\"\\nWeather Statistics by Month:\")\n",
        "    print(summary)\n",
        "    fig, ax = plt.subplots(figsize=(8, 4))\n",
        "    ax.axis(\"tight\")\n",
        "    ax.axis(\"off\")\n",
        "    table = ax.table(\n",
        "        cellText=summary.values,\n",
        "        colLabels=summary.columns,\n",
        "        cellLoc=\"center\",\n",
        "        loc=\"center\",\n",
        "    )\n",
        "    table.auto_set_font_size(False)\n",
        "    table.set_fontsize(10)\n",
        "    table.auto_set_column_width(col=list(range(len(summary.columns))))\n",
        "    plt.title(\"Monthly Weather Summary\")\n",
        "    plt.show()\n",
        "\n",
        "def export_report_to_csv(data, file_name=\"weather_report.csv\"):\n",
        "    headers = [\"Date\", \"Temperature (°C)\", \"Rainfall\", \"Humidity (%)\", \"Wind Speed (km/h)\", \"Condition\"]\n",
        "    try:\n",
        "        with open(file_name, mode=\"w\", newline=\"\") as file:\n",
        "            writer = csv.DictWriter(file, fieldnames=headers)\n",
        "            writer.writeheader()\n",
        "            writer.writerows(data)\n",
        "        print(f\"Report successfully exported to {file_name}.\")\n",
        "    except Exception as e:\n",
        "        print(f\"An error occurred while exporting the report: {e}\")\n",
        "\n",
        "def search_weather_data(data, search_type=\"date\", query=None):\n",
        "    if search_type == \"date\":\n",
        "        results = [row for row in data if row[\"Date\"] == query]\n",
        "    elif search_type == \"condition\":\n",
        "        results = [row for row in data if row[\"Condition\"].lower() == query.lower()]\n",
        "    else:\n",
        "        print(\"Invalid search type.\")\n",
        "        return []\n",
        "    if results:\n",
        "        print(f\"\\nSearch Results for {search_type} '{query}':\")\n",
        "        for result in results:\n",
        "            print(result)\n",
        "    else:\n",
        "        print(f\"No results found for {search_type} '{query}'.\")\n",
        "\n",
        "# Menu-driven interface\n",
        "def menu():\n",
        "    weather_data = []\n",
        "    while True:\n",
        "        print(\"\\nWeather Data Analysis Tool\")\n",
        "        print(\"1. Import Weather Data\")\n",
        "        print(\"2. View Temperature Trend\")\n",
        "        print(\"3. View Daily Rainfall Chart\")\n",
        "        print(\"4. Summarize Weather by Month\")\n",
        "        print(\"5. Export Weather Report to CSV\")\n",
        "        print(\"6. Search Weather Data\")\n",
        "        print(\"7. Exit\")\n",
        "        choice = input(\"Enter your choice (1-7): \")\n",
        "\n",
        "        if choice == \"1\":\n",
        "            file_path = input(\"Enter the path to the weather data CSV file: \")\n",
        "            weather_data = import_weather_data(file_path)\n",
        "\n",
        "        elif choice == \"2\":\n",
        "            if weather_data:\n",
        "                plot_temperature_trend(weather_data)\n",
        "            else:\n",
        "                print(\"No weather data available. Please import data first.\")\n",
        "\n",
        "        elif choice == \"3\":\n",
        "            if weather_data:\n",
        "                plot_daily_rainfall(weather_data)\n",
        "            else:\n",
        "                print(\"No weather data available. Please import data first.\")\n",
        "\n",
        "        elif choice == \"4\":\n",
        "            if weather_data:\n",
        "                summarize_weather_by_month(weather_data)\n",
        "            else:\n",
        "                print(\"No weather data available. Please import data first.\")\n",
        "\n",
        "        elif choice == \"5\":\n",
        "            if weather_data:\n",
        "                file_name = input(\"Enter the name of the CSV file to export (default: weather_report.csv): \")\n",
        "                file_name = file_name.strip() or \"weather_report.csv\"\n",
        "                export_report_to_csv(weather_data, file_name)\n",
        "            else:\n",
        "                print(\"No weather data available. Please import data first.\")\n",
        "\n",
        "        elif choice == \"6\":\n",
        "            if weather_data:\n",
        "                search_type = input(\"Search by 'date' or 'condition': \").strip().lower()\n",
        "                if search_type == \"date\":\n",
        "                    query = input(\"Enter the date (YYYY-MM-DD): \").strip()\n",
        "                    search_weather_data(weather_data, search_type=\"date\", query=query)\n",
        "                elif search_type == \"condition\":\n",
        "                    query = input(\"Enter the condition (e.g., Sunny, Rainy): \").strip()\n",
        "                    search_weather_data(weather_data, search_type=\"condition\", query=query)\n",
        "                else:\n",
        "                    print(\"Invalid search type.\")\n",
        "            else:\n",
        "                print(\"No weather data available. Please import data first.\")\n",
        "\n",
        "        elif choice == \"7\":\n",
        "            print(\"Exiting the Weather Data Analysis Tool. Goodbye!\")\n",
        "            break\n",
        "\n",
        "        else:\n",
        "            print(\"Invalid choice. Please try again.\")\n",
        "\n",
        "if __name__ == \"__main__\":\n",
        "    menu()\n"
      ]
    },
    {
      "cell_type": "markdown",
      "metadata": {
        "id": "Jki-cwBn8iCr"
      },
      "source": []
    }
  ],
  "metadata": {
    "colab": {
      "provenance": []
    },
    "kernelspec": {
      "display_name": "Python 3",
      "name": "python3"
    },
    "language_info": {
      "name": "python"
    }
  },
  "nbformat": 4,
  "nbformat_minor": 0
}